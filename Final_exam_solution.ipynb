{
 "cells": [
  {
   "cell_type": "markdown",
   "metadata": {},
   "source": [
    " # CS551 Final Exam: Generative Adversarial Neural Networks\n",
    "\n",
    "\n",
    "\n",
    " **Authors:** Fabio Cozzuto, Johan Mogollon\n",
    "\n",
    " **Contributions:**\n",
    "\n",
    " - **Fabio Cozzuto:** All code, experiments, and analysis\n",
    "\n",
    " - **Johan Mogollon:** All code, experiments, and analysis\n",
    "\n",
    "\n",
    "\n",
    " This notebook demonstrates:\n",
    "\n",
    " 1. Padding calculation for DCGAN discriminator\n",
    "\n",
    " 2. Data‑augmentation pipelines (`basic` vs. `deluxe`)\n",
    "\n",
    " 3. Visualizing DCGAN samples\n",
    "\n",
    " 4. Plotting DCGAN training losses\n",
    "\n",
    " 5. Comparing CycleGAN outputs"
   ]
  },
  {
   "cell_type": "markdown",
   "metadata": {},
   "source": [
    " ## 1. Environment Setup & Imports\n",
    "\n",
    " Ensure Jupyter can import our GAN modules"
   ]
  },
  {
   "cell_type": "code",
   "execution_count": null,
   "metadata": {},
   "outputs": [],
   "source": [
    "import os, sys\n",
    "sys.path.insert(0, os.path.abspath('.'))"
   ]
  },
  {
   "cell_type": "markdown",
   "metadata": {},
   "source": [
    " ## 2. Padding Calculation for DCGAN Discriminator\n",
    "\n",
    "\n",
    "\n",
    " **Question:** With kernel size \\(K=4\\) and stride \\(S=2\\), what padding \\(P\\) halves the spatial dimensions?\n",
    "\n",
    "\n",
    "\n",
    " **Answer:** The convolution output formula is\n",
    "\n",
    " \\[\n",
    "\n",
    "   \\text{out} = \\frac{\\text{in} - K + 2P}{S} + 1.\n",
    "\n",
    " \\]\n",
    "\n",
    " Setting \\(\\text{out} = \\tfrac{\\text{in}}{2}\\) and solving gives \\(P = 1\\). :contentReference[oaicite:2]{index=2}"
   ]
  },
  {
   "cell_type": "markdown",
   "metadata": {},
   "source": [
    " ## 3. Data‑Augmentation Pipelines\n",
    "\n",
    "\n",
    "\n",
    " We define both **basic** and **deluxe** transforms.\n",
    "\n",
    " Deluxe uses a 10% up‑scale + random crop + flip :contentReference[oaicite:3]{index=3}."
   ]
  },
  {
   "cell_type": "code",
   "execution_count": null,
   "metadata": {},
   "outputs": [],
   "source": [
    "from data_loader import get_data_loader  # re-import for clarity\n",
    "\n",
    "# Suppose opts.image_size is 64 for this exam\n",
    "image_size = 64\n",
    "\n",
    "basic_transform = transforms.Compose([\n",
    "    transforms.Resize(image_size),\n",
    "    transforms.ToTensor(),\n",
    "    transforms.Normalize((0.5,)*3, (0.5,)*3),\n",
    "])\n",
    "\n",
    "deluxe_transform = transforms.Compose([\n",
    "    transforms.Resize(int(1.1 * image_size)),\n",
    "    transforms.RandomCrop(image_size),\n",
    "    transforms.RandomHorizontalFlip(),\n",
    "    transforms.ToTensor(),\n",
    "    transforms.Normalize((0.5,)*3, (0.5,)*3),\n",
    "])\n",
    "\n",
    "# Display example\n",
    "sample_img = Image.open('data/sample.png').convert('RGB')\n",
    "fig, axes = plt.subplots(1, 2, figsize=(8,4))\n",
    "axes[0].imshow(np.transpose(basic_transform(sample_img).numpy(), (1,2,0)))\n",
    "axes[0].set_title(\"Basic\")\n",
    "axes[0].axis('off')\n",
    "axes[1].imshow(np.transpose(deluxe_transform(sample_img).numpy(), (1,2,0)))\n",
    "axes[1].set_title(\"Deluxe\")\n",
    "axes[1].axis('off')\n",
    "plt.show()"
   ]
  },
  {
   "cell_type": "markdown",
   "metadata": {},
   "source": [
    " ## 4. Visualizing DCGAN Samples\n",
    "\n",
    "\n",
    "\n",
    " We use our `DCGenerator` and display a 4×4 grid of generated images :contentReference[oaicite:4]{index=4}."
   ]
  },
  {
   "cell_type": "code",
   "execution_count": null,
   "metadata": {},
   "outputs": [],
   "source": [
    "# Instantiate generator\n",
    "G = DCGenerator(noise_size=100, conv_dim=64).cuda()\n",
    "fixed_noise = to_var(torch.randn(16, 100, 1, 1))\n",
    "\n",
    "# Generate samples\n",
    "with torch.no_grad():\n",
    "    fake_images = G(fixed_noise)\n",
    "\n",
    "# Make grid and plot\n",
    "grid = make_grid(fake_images, nrow=4, normalize=True, value_range=(-1,1))\n",
    "plt.figure(figsize=(6,6))\n",
    "plt.imshow(grid.permute(1,2,0))\n",
    "plt.title(\"DCGAN Fake Samples\")\n",
    "plt.axis('off')\n",
    "plt.show()"
   ]
  },
  {
   "cell_type": "markdown",
   "metadata": {},
   "source": [
    " ## 5. DCGAN Training Loss Curves\n",
    "\n",
    "\n",
    "\n",
    " Load your logged losses (saved as NumPy arrays during training)."
   ]
  },
  {
   "cell_type": "code",
   "execution_count": null,
   "metadata": {},
   "outputs": [],
   "source": [
    "# Replace with your actual log paths\n",
    "g_losses = np.load('logs/dcgan_g_losses.npy')\n",
    "d_losses = np.load('logs/dcgan_d_losses.npy')\n",
    "iterations = np.arange(len(g_losses)) * 100  # e.g. logged every 100 iters\n",
    "\n",
    "plt.figure(figsize=(8,4))\n",
    "plt.plot(iterations, g_losses, label='Generator Loss')\n",
    "plt.plot(iterations, d_losses, label='Discriminator Loss')\n",
    "plt.xlabel(\"Iteration\")\n",
    "plt.ylabel(\"Loss\")\n",
    "plt.title(\"DCGAN Training Curves\")\n",
    "plt.legend()\n",
    "plt.grid(True)\n",
    "plt.show()"
   ]
  },
  {
   "cell_type": "markdown",
   "metadata": {},
   "source": [
    " ## 6. CycleGAN Sample Comparisons\n",
    "\n",
    "\n",
    "\n",
    " Display saved sample images from 𝑋→𝑌 and 𝑌→𝑋 at iteration 400."
   ]
  },
  {
   "cell_type": "code",
   "execution_count": null,
   "metadata": {},
   "outputs": [],
   "source": [
    "def show_image(path, title):\n",
    "    img = Image.open(path).convert('RGB')\n",
    "    plt.figure(figsize=(4,4))\n",
    "    plt.imshow(img)\n",
    "    plt.title(title)\n",
    "    plt.axis('off')\n",
    "    plt.show()\n",
    "\n",
    "show_image('output/cyclegan/sample-000400-X-Y.png', 'CycleGAN X→Y @400')\n",
    "show_image('output/cyclegan/sample-000400-Y-X.png', 'CycleGAN Y→X @400')"
   ]
  },
  {
   "cell_type": "markdown",
   "metadata": {},
   "source": [
    " ## 7. Cycle Consistency Loss\n",
    "\n",
    "\n",
    "\n",
    " The cycle loss enforces \\(G(F(y)) \\approx y\\) and \\(F(G(x)) \\approx x\\), typically using L1:\n",
    "\n",
    "\n",
    "\n",
    " \\[\n",
    "\n",
    "   \\mathcal{L}_{cycle}\n",
    "\n",
    "   = \\mathbb{E}_{x\\sim X}\\lVert F(G(x)) - x\\rVert_1\n",
    "\n",
    "   + \\mathbb{E}_{y\\sim Y}\\lVert G(F(y)) - y\\rVert_1.\n",
    "\n",
    " \\]"
   ]
  },
  {
   "cell_type": "markdown",
   "metadata": {},
   "source": [
    " ## 8. Embedding TensorBoard in‑Notebook\n",
    "\n",
    "\n",
    "\n",
    " Launch TensorBoard directly in this notebook :contentReference[oaicite:5]{index=5}."
   ]
  },
  {
   "cell_type": "code",
   "execution_count": null,
   "metadata": {},
   "outputs": [],
   "source": [
    "# In a Jupyter cell, uncomment to launch:\n",
    "# %load_ext tensorboard\n",
    "# %tensorboard --logdir=output/vanilla  # or your CycleGAN logs"
   ]
  }
 ],
 "metadata": {
  "language_info": {
   "codemirror_mode": {
    "name": "ipython",
    "version": 3
   },
   "file_extension": ".py",
   "mimetype": "text/x-python",
   "name": "python",
   "nbconvert_exporter": "python",
   "pygments_lexer": "ipython3",
   "version": 3
  }
 },
 "nbformat": 4,
 "nbformat_minor": 2
}
